{
  "nbformat": 4,
  "nbformat_minor": 0,
  "metadata": {
    "colab": {
      "name": "Jaden Casing Strings-Codewars.ipynb",
      "provenance": []
    },
    "kernelspec": {
      "name": "python3",
      "display_name": "Python 3"
    },
    "language_info": {
      "name": "python"
    }
  },
  "cells": [
    {
      "cell_type": "markdown",
      "source": [
        "Jaden Smith, the son of Will Smith, is the star of films such as The Karate Kid (2010) and After Earth (2013). Jaden is also known for some of his philosophy that he delivers via Twitter. When writing on Twitter, he is known for almost always capitalizing every word. For simplicity, you'll have to capitalize each word, check out how contractions are expected to be in the example below.\n",
        "\n",
        "Your task is to convert strings to how they would be written by Jaden Smith. The strings are actual quotes from Jaden Smith, but they are not capitalized in the same way he originally typed them.\n",
        "\n",
        "Example:\n",
        "\n",
        "Not Jaden-Cased: \"How can mirrors be real if our eyes aren't real\" Jaden-Cased: \"How Can Mirrors Be Real If Our Eyes Aren't Real\""
      ],
      "metadata": {
        "id": "iiXoOYdUTfIy"
      }
    },
    {
      "cell_type": "code",
      "source": [
        "string = \"How can mirrors be real if our eyes aren't real\"\n",
        "string=string.split(\" \")\n",
        "jaden_caser=[]\n",
        "for i in string:\n",
        "  jaden_caser.append(i.capitalize())\n",
        "print(\" \".join(jaden_caser))"
      ],
      "metadata": {
        "colab": {
          "base_uri": "https://localhost:8080/"
        },
        "id": "5sa2kDP8ThG2",
        "outputId": "3ee3470c-d65d-4786-82b4-14ba5cb1b704"
      },
      "execution_count": 1,
      "outputs": [
        {
          "output_type": "stream",
          "name": "stdout",
          "text": [
            "How Can Mirrors Be Real If Our Eyes Aren't Real\n"
          ]
        }
      ]
    }
  ]
}